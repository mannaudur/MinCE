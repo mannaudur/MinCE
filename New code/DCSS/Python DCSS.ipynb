{
 "cells": [
  {
   "cell_type": "code",
   "execution_count": 1,
   "id": "55dc73ae",
   "metadata": {},
   "outputs": [],
   "source": [
    "# Lifted from https://github.com/srmcc/dcss_single_cell/blob/master/src/dcss/dls_funct.py\n",
    "\n",
    "import pandas as pd\n",
    "import numpy as np\n",
    "\n",
    "def det_leverage(V, k, epsilon):\n",
    "    \"\"\"\n",
    "    for the data matrix A=U \\Sigma V^T\n",
    "    A.shape =(n=number of samples, d=number of features)\n",
    "    V.shape=(d, n)\n",
    "    k is the rank of the PCA leverage score\n",
    "    epsilon is the error parameter.\n",
    "    the function returns\n",
    "    theta: the number of kept columns\n",
    "    index_keep: the index of the selected columns\n",
    "    tau_sorted:  the sorted leverage scores of all the columns\n",
    "    index_drop:  the index of the dropped columns\n",
    "    \"\"\"\n",
    "    V = pd.DataFrame(V)\n",
    "    Vk= V.iloc[:, 0:k]\n",
    "    print(Vk.shape)\n",
    "    tau= np.sum(Vk**2, axis=1)\n",
    "    tau_sorted= tau.sort_values(ascending=False, inplace=False)\n",
    "    lev_sum=0\n",
    "    for i in range(V.shape[0]):\n",
    "        lev_sum =lev_sum+ tau_sorted.iloc[i]\n",
    "        if lev_sum > k - epsilon:\n",
    "            theta=i+1\n",
    "            if theta >= k:\n",
    "                break\n",
    "    index_keep= tau_sorted.index[0:theta]\n",
    "    index_keep = index_keep.values\n",
    "    index_drop = tau_sorted.index[theta:]\n",
    "    index_drop= index_drop.values\n",
    "    return(theta, index_keep, tau_sorted, index_drop)\n",
    "\n",
    "def read_bitmatrix(path):\n",
    "    bitmat = pd.read_csv(path, sep='\\t').values[:,1:]\n",
    "    #valid = np.where(np.sum(self.bitmat, axis=1)<int(np.shape(bitmat)[1]))[0]\n",
    "    return(bitmat)"
   ]
  },
  {
   "cell_type": "code",
   "execution_count": null,
   "id": "3f0a3fa5",
   "metadata": {},
   "outputs": [],
   "source": []
  }
 ],
 "metadata": {
  "kernelspec": {
   "display_name": "Python 3",
   "language": "python",
   "name": "python3"
  },
  "language_info": {
   "codemirror_mode": {
    "name": "ipython",
    "version": 3
   },
   "file_extension": ".py",
   "mimetype": "text/x-python",
   "name": "python",
   "nbconvert_exporter": "python",
   "pygments_lexer": "ipython3",
   "version": "3.9.2"
  }
 },
 "nbformat": 4,
 "nbformat_minor": 5
}
