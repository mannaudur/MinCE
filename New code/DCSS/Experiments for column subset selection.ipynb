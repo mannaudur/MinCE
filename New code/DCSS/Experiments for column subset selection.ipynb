{
 "cells": [
  {
   "cell_type": "code",
   "execution_count": 165,
   "id": "4ebebf08",
   "metadata": {},
   "outputs": [],
   "source": [
    "import pandas as pd\n",
    "import numpy as np\n",
    "\n",
    "# Reads a path to .tsv file, returns the bitmatrix, \n",
    "# indexes pointing to fasta files (sort of redundant)\n",
    "# and clique member names in order relative to bitmatrix\n",
    "def read_bitmatrix(path):\n",
    "    tsv_file = pd.read_csv(path, sep='\\t').sort_values('query_name')\n",
    "    bitmat = tsv_file.values[:,1:]\n",
    "    index = tsv_file.values[:,0]\n",
    "    members = list(tsv_file.columns[1:])\n",
    "    return(bitmat,index,members)\n",
    "\n",
    "# From a bitmatrix, get a submatrix only consisting of unique\n",
    "# vector forms founds in the original matrix\n",
    "# Returns a reduced matrix consisting of every variation of \n",
    "# row vector, i.e. every way a node in CCDBG can be colored \n",
    "# differently, as well as a reference list which maps the \n",
    "# row index of a vector in the reduced matrix to the indices of\n",
    "# that vector form's corresponding fasta sequences.\n",
    "# Also returns members, a list of member names in order\n",
    "# of appearance in bitmatrix columns.\n",
    "def reduce_bit_matrix(path):\n",
    "    bitmat, index, members = read_bitmatrix(path)\n",
    "    uniques = set()\n",
    "    mapping = dict()\n",
    "    for i in range(bitmat.shape[0]):\n",
    "        if (bitmat[i] == 0).any():\n",
    "            form = tuple(bitmat[i])\n",
    "            uniques.add(form)\n",
    "            if form in mapping:\n",
    "                mapping[form].append(index[i])\n",
    "            else:\n",
    "                mapping[form] = [index[i]]\n",
    "    N = len(uniques)\n",
    "    M = len(members)\n",
    "    reduced = np.zeros((N,M))\n",
    "    degrees = dict()\n",
    "    connected_to = dict()\n",
    "    ref_to_fasta = list()\n",
    "    uniques = sorted(uniques, key=sum)\n",
    "    for i,form in enumerate(uniques):\n",
    "            reduced[i] = np.array(form)\n",
    "            ref_to_fasta.append(mapping[form])\n",
    "            deg = sum(form)\n",
    "            if deg in degrees:\n",
    "                degrees[deg].append(i)\n",
    "            else:\n",
    "                degrees[deg] = [i]\n",
    "            for mem in np.where(reduced[i] == 1)[0]:\n",
    "                if mem in connected_to:\n",
    "                    connected_to[mem].append(i)\n",
    "                else:\n",
    "                    connected_to[mem] = [i]\n",
    "    return(reduced, ref_to_fasta, members, degrees, connected_to)\n",
    "\n",
    "def first_pass(reduced, fasta_indices, degree_log):\n",
    "    M = reduced.shape[1]\n",
    "\n",
    "    connections = np.zeros((M,M))\n",
    "    chosen = dict()\n",
    "    for seq in degree_log[1]:\n",
    "        respective_member = int(np.where(reduced[seq] == 1)[0])\n",
    "        for i, fasta in enumerate(fasta_indices[seq]):\n",
    "            if respective_member in chosen:\n",
    "                chosen[respective_member].append(fasta)\n",
    "            else:\n",
    "                chosen[respective_member] = [fasta]\n",
    "            connections[respective_member] += reduced[seq]\n",
    "            i+=1\n",
    "            if i == 10:\n",
    "                break\n",
    "    return(chosen, connections)\n",
    "\n",
    "def second_pass(reduced, fasta_indices, degree_log, chosen, connections, connected_to):\n",
    "    deg = 2\n",
    "    while (sum(connections) < 10).any():\n",
    "        focus_mem = np.argmin(sum(connections))\n",
    "        options = list(set(connected_to[focus_mem]).intersection(set(degree_log[deg])))\n",
    "        chosen_index = np.argmin(np.matmul(reduced[options],connections[focus_mem]))\n",
    "        chosen_vec = options[chosen_index]\n",
    "        chosen_fasta = fasta_indices[chosen_vec][0]\n",
    "        chosen.append(chosen_fasta)\n",
    "        fasta_indices[chosen_vec].remove(chosen_fasta)\n",
    "        respective_members = np.where(reduced[chosen_vec] == 1)[0]\n",
    "        for respective_member in respective_members:\n",
    "            if respective_member in chosen:\n",
    "                chosen[respective_member].append(chosen_fasta)\n",
    "            else:\n",
    "                chosen[respective_member] = [chosen_fasta]\n",
    "            connections[respective_member] += reduced[chosen_vec]\n",
    "        deg+=1\n",
    "    return(chosen, connections)\n",
    "    \n",
    "    \n",
    "\n",
    "def parse_fasta(fasta_path):\n",
    "        desc = []\n",
    "        seqs = []\n",
    "\n",
    "        s = []\n",
    "        for line in open(fasta_path, 'r'):\n",
    "            if line[0] == '>':\n",
    "                if s:\n",
    "                    seqs.append(''.join(s))\n",
    "                s = []\n",
    "            else:\n",
    "                s.append(line.strip())\n",
    "\n",
    "        seqs.append(''.join(s))\n",
    "        \n",
    "        return {'file': fasta_path, 'seqs': seqs}\n",
    "\n",
    "def print_to_file(chosen, fas, mem, fasta_path):\n",
    "    fastas = parse_fasta(fasta_path)['seqs']\n",
    "    seq_file_path = fasta_path.split('.')[0]+'.seqs'\n",
    "    with open(seq_file_path, 'w') as f:\n",
    "        for mem_ind in chosen:\n",
    "            f.write(mem[mem_ind])\n",
    "            f.write(':\\n')\n",
    "            for fas_ind in chosen[mem_ind]:\n",
    "                fasta_seq = fastas[fas_ind][:31]\n",
    "                f.write(fasta_seq)\n",
    "                f.write('\\n')\n",
    "            f.write('\\n')\n",
    "\n",
    "def choose_sequences(path):\n",
    "    fasta_path = path.split('.')[0]+'.clique.fasta'\n",
    "    \n",
    "    red, fas, mem, deg, connected_to = reduce_bit_matrix(path)\n",
    "    chosen, connections = first_pass(red, fas, deg)\n",
    "    \n",
    "    if (sum(connections) == 10).all():\n",
    "        print_to_file(chosen, fas, mem, fasta_path)\n",
    "    else:\n",
    "        chosen, connections = second_pass(red, fas, deg, chosen, connections, connected_to)\n",
    "        print_to_file(chosen, fas, mem, fasta_path)\n",
    "    print(path,'done...')\n",
    "    return(red, chosen, connections, deg, mem)"
   ]
  },
  {
   "cell_type": "code",
   "execution_count": 166,
   "id": "89f23d48",
   "metadata": {},
   "outputs": [
    {
     "name": "stdout",
     "output_type": "stream",
     "text": [
      "82040.clique.tsv done...\n"
     ]
    },
    {
     "data": {
      "text/plain": [
       "(33, 6)"
      ]
     },
     "execution_count": 166,
     "metadata": {},
     "output_type": "execute_result"
    }
   ],
   "source": [
    "reduced, chosen, conn, degs, mem = choose_sequences('82040.clique.tsv')\n",
    "reduced.shape"
   ]
  },
  {
   "cell_type": "code",
   "execution_count": 133,
   "id": "75b084e4",
   "metadata": {},
   "outputs": [
    {
     "data": {
      "text/plain": [
       "6"
      ]
     },
     "execution_count": 133,
     "metadata": {},
     "output_type": "execute_result"
    }
   ],
   "source": [
    "deg_1_span = np.where(np.sum(reduced, axis=1) == 2)[0][0]\n",
    "deg_1_span"
   ]
  },
  {
   "cell_type": "code",
   "execution_count": 156,
   "id": "2ca85272",
   "metadata": {},
   "outputs": [
    {
     "name": "stdout",
     "output_type": "stream",
     "text": [
      "GCF_001708775.1_ASM170877v1\n",
      "GCF_003608045.1_ASM360804v1\n",
      "GCF_001827025.1_ASM182702v1\n",
      "GCF_003607805.1_ASM360780v1\n",
      "GCF_012063895.1_ASM1206389v1\n",
      "GCF_001828155.1_ASM182815v1\n"
     ]
    }
   ],
   "source": [
    "for mems in chosen:\n",
    "    print(mem[mems].split('/')[-1].split('_genomic')[0])"
   ]
  },
  {
   "cell_type": "markdown",
   "id": "06efe4ba",
   "metadata": {},
   "source": [
    "Eflaust pínku bull en fyrir n sæta tvíundatölu k, þá kemur talan k næst aftur fyrir í tölunni k+2^n.\n",
    "\n",
    "Þetta þýðir að fyrir töluna 10 = 2 er n = 2 og þá kemur 10 næst aftur fyrir í tölunni 110 = 6 = 2+4 = 2+2^2.\n",
    "Fyrir töluna 11 = 3 er n = 2 og þá kemur 11 næst aftur fyrir í tölunni 111 = 7 = 3+4 = 2+2^2.\n",
    "Fyrir töluna 100 = 4 er n = 3 og þá kemur 100 næst aftur fyrir í tölunni 1100 = 12 = 4+8 = 4+2^3.\n",
    "\n",
    "Þetta þýðir eftirfarandi: Fyrir gefið n x d fylki A, þar sem n er fjöldi erfðamengja og d er fjöldi einkennisraða, getur verið að við viljum skoða einstaklinginn sem tilheyrir dálki i í fylkinu. Skilgreinum nú b = n-(i+1). Allir bitavigrar sem þessi einstaklingur kemur fram í eru þá jafngildir þeim tugatölum, T, sem uppfylla \n",
    "\n",
    "T = 2^b + n \\* 2^(b+1)."
   ]
  },
  {
   "cell_type": "markdown",
   "id": "97e17a71",
   "metadata": {},
   "source": [
    "Hvað einkennir góðar niðurstöður hér?\n",
    "\n",
    "Byrjum með n x d fylki A.\n",
    "Smækkum það niður í n x m möguleikafylkið D.\n",
    "\n",
    "Viljum finna n x V undirfylkið K með V völdum dálkum, þar sem\n",
    "\n",
    "    markmið: raðarsumma K er nálægt eða jöfn 10\n",
    "        þetta er jafngilt því að hornalínan í tengslafylkinu sé öll með >= 10\n",
    "    skorða: "
   ]
  }
 ],
 "metadata": {
  "kernelspec": {
   "display_name": "Python 3",
   "language": "python",
   "name": "python3"
  },
  "language_info": {
   "codemirror_mode": {
    "name": "ipython",
    "version": 3
   },
   "file_extension": ".py",
   "mimetype": "text/x-python",
   "name": "python",
   "nbconvert_exporter": "python",
   "pygments_lexer": "ipython3",
   "version": "3.9.2"
  }
 },
 "nbformat": 4,
 "nbformat_minor": 5
}
